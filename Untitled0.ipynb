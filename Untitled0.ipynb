{
 "metadata": {
  "name": "",
  "signature": "sha256:8f4d5afe9862b8e7f8ee1c45e07cf249f1163d1e959e12a99588025039d1d1d9"
 },
 "nbformat": 3,
 "nbformat_minor": 0,
 "worksheets": [
  {
   "cells": [
    {
     "cell_type": "code",
     "collapsed": false,
     "input": [
      "import numpy as np\n",
      "import matplotlib.pyplot as plt\n",
      "\n",
      "from Model import *"
     ],
     "language": "python",
     "metadata": {},
     "outputs": [],
     "prompt_number": 1
    },
    {
     "cell_type": "code",
     "collapsed": false,
     "input": [
      "%matplotlib inline"
     ],
     "language": "python",
     "metadata": {},
     "outputs": [],
     "prompt_number": 2
    },
    {
     "cell_type": "markdown",
     "metadata": {},
     "source": [
      "## Testing the model"
     ]
    },
    {
     "cell_type": "code",
     "collapsed": false,
     "input": [
      "m = Model()\n",
      "# Start the model with 50 agents and 100 interests\n",
      "m.burnin_model(50) \n",
      "#m.verbose = True\n",
      "for agent in m.agents:\n",
      "    agent.grow_resources()"
     ],
     "language": "python",
     "metadata": {},
     "outputs": [],
     "prompt_number": 9
    },
    {
     "cell_type": "code",
     "collapsed": false,
     "input": [
      "for i in range(2):\n",
      "    for j in range(4):\n",
      "        m.interaction()\n",
      "    for agent in m.agents:\n",
      "        agent.grow_resources()"
     ],
     "language": "python",
     "metadata": {},
     "outputs": [],
     "prompt_number": 10
    },
    {
     "cell_type": "code",
     "collapsed": false,
     "input": [
      "interest_counts = [len(agent.interests) for agent in m.agents]\n",
      "plt.bar(range(len(m.agents)), interest_counts)"
     ],
     "language": "python",
     "metadata": {},
     "outputs": [
      {
       "metadata": {},
       "output_type": "pyout",
       "prompt_number": 11,
       "text": [
        "<Container object of 50 artists>"
       ]
      },
      {
       "metadata": {},
       "output_type": "display_data",
       "png": "[encoded data removed]",
       "text": [
        "<matplotlib.figure.Figure at 0x10713a110>"
       ]
      }
     ],
     "prompt_number": 11
    },
    {
     "cell_type": "code",
     "collapsed": false,
     "input": [
      "for i in range(100):\n",
      "    for j in range(4):\n",
      "        m.interaction()\n",
      "    for agent in m.agents:\n",
      "        agent.grow_resources()"
     ],
     "language": "python",
     "metadata": {},
     "outputs": [],
     "prompt_number": 12
    },
    {
     "cell_type": "code",
     "collapsed": false,
     "input": [
      "interest_counts = [len(agent.interests) for agent in m.agents]\n",
      "plt.bar(range(len(m.agents)), interest_counts)"
     ],
     "language": "python",
     "metadata": {},
     "outputs": [
      {
       "metadata": {},
       "output_type": "pyout",
       "prompt_number": 13,
       "text": [
        "<Container object of 76 artists>"
       ]
      },
      {
       "metadata": {},
       "output_type": "display_data",
       "png": "[encoded data removed]",
       "text": [
        "<matplotlib.figure.Figure at 0x107f898d0>"
       ]
      }
     ],
     "prompt_number": 13
    },
    {
     "cell_type": "markdown",
     "metadata": {},
     "source": [
      "## Counting actors"
     ]
    },
    {
     "cell_type": "code",
     "collapsed": false,
     "input": [
      "m = Model()\n",
      "# Start the model with 50 agents and 100 interests\n",
      "m.burnin_model(50) \n",
      "#m.verbose = True\n",
      "for agent in m.agents:\n",
      "    agent.grow_resources()"
     ],
     "language": "python",
     "metadata": {},
     "outputs": [],
     "prompt_number": 3
    },
    {
     "cell_type": "code",
     "collapsed": false,
     "input": [
      "agent_count = []\n",
      "second_largest = []\n",
      "for i in range(1000):\n",
      "    for j in range(10):\n",
      "        m.interaction()\n",
      "    # Count active agents\n",
      "    count = len([len(agent.interests) for agent in m.agents\n",
      "                       if len(agent.interests) > 0])\n",
      "    agent_count.append(count)\n",
      "    \n",
      "    # Get size of second-largest agent\n",
      "    sizes = [len(agent.interests) for agent in m.agents\n",
      "                       if len(agent.interests) > 0]\n",
      "    sizes.remove(max(sizes))\n",
      "    second_largest.append(max(sizes))\n",
      "    \n",
      "    for agent in m.agents:\n",
      "        agent.grow_resources()"
     ],
     "language": "python",
     "metadata": {},
     "outputs": [],
     "prompt_number": 5
    },
    {
     "cell_type": "code",
     "collapsed": false,
     "input": [
      "plt.plot(agent_count)"
     ],
     "language": "python",
     "metadata": {},
     "outputs": [
      {
       "metadata": {},
       "output_type": "pyout",
       "prompt_number": 6,
       "text": [
        "[<matplotlib.lines.Line2D at 0x108972d90>]"
       ]
      },
      {
       "metadata": {},
       "output_type": "display_data",
       "png": "[encoded data removed]",
       "text": [
        "<matplotlib.figure.Figure at 0x108368e50>"
       ]
      }
     ],
     "prompt_number": 6
    },
    {
     "cell_type": "code",
     "collapsed": false,
     "input": [
      "plt.plot(second_largest)"
     ],
     "language": "python",
     "metadata": {},
     "outputs": [
      {
       "metadata": {},
       "output_type": "pyout",
       "prompt_number": 7,
       "text": [
        "[<matplotlib.lines.Line2D at 0x108b32fd0>]"
       ]
      },
      {
       "metadata": {},
       "output_type": "display_data",
       "png": "[encoded data removed]",
       "text": [
        "<matplotlib.figure.Figure at 0x108368d90>"
       ]
      }
     ],
     "prompt_number": 7
    },
    {
     "cell_type": "code",
     "collapsed": false,
     "input": [
      "interest_counts = np.array([len(agent.interests) for agent in m.agents])\n",
      "#interest_counts = interest_counts[interest_counts>0]\n",
      "plt.bar(range(len(interest_counts)), interest_counts)"
     ],
     "language": "python",
     "metadata": {},
     "outputs": [
      {
       "metadata": {},
       "output_type": "pyout",
       "prompt_number": 19,
       "text": [
        "<Container object of 2201 artists>"
       ]
      },
      {
       "metadata": {},
       "output_type": "display_data",
       "png": "[encoded data removed]",
       "text": [
        "<matplotlib.figure.Figure at 0x1093213d0>"
       ]
      }
     ],
     "prompt_number": 19
    },
    {
     "cell_type": "code",
     "collapsed": false,
     "input": [
      "plt.hist(m.bid_sizes)"
     ],
     "language": "python",
     "metadata": {},
     "outputs": [
      {
       "metadata": {},
       "output_type": "pyout",
       "prompt_number": 10,
       "text": [
        "(array([24626,  5553,   724,   289,   111,    57,    23,     8,     4,     1]),\n",
        " array([    0.        ,   310.56230561,   621.12461122,   931.68691682,\n",
        "         1242.24922243,  1552.81152804,  1863.37383365,  2173.93613926,\n",
        "         2484.49844487,  2795.06075047,  3105.62305608]),\n",
        " <a list of 10 Patch objects>)"
       ]
      },
      {
       "metadata": {},
       "output_type": "display_data",
       "png": "[encoded data removed]",
       "text": [
        "<matplotlib.figure.Figure at 0x108f07610>"
       ]
      }
     ],
     "prompt_number": 10
    },
    {
     "cell_type": "code",
     "collapsed": false,
     "input": [
      "sizes_sorted = sorted(m.bid_sizes, reverse=True)\n",
      "plt.plot(sizes_sorted)"
     ],
     "language": "python",
     "metadata": {},
     "outputs": [
      {
       "metadata": {},
       "output_type": "pyout",
       "prompt_number": 11,
       "text": [
        "[<matplotlib.lines.Line2D at 0x1093158d0>]"
       ]
      },
      {
       "metadata": {},
       "output_type": "display_data",
       "png": "[encoded data removed]",
       "text": [
        "<matplotlib.figure.Figure at 0x1091077d0>"
       ]
      }
     ],
     "prompt_number": 11
    },
    {
     "cell_type": "code",
     "collapsed": false,
     "input": [
      "plt.bar(range(len(m.agents)), [agent.wealth for agent in m.agents])"
     ],
     "language": "python",
     "metadata": {},
     "outputs": [
      {
       "metadata": {},
       "output_type": "pyout",
       "prompt_number": 13,
       "text": [
        "<Container object of 2201 artists>"
       ]
      },
      {
       "metadata": {},
       "output_type": "display_data",
       "png": "[encoded data removed]",
       "text": [
        "<matplotlib.figure.Figure at 0x10913d150>"
       ]
      }
     ],
     "prompt_number": 13
    },
    {
     "cell_type": "code",
     "collapsed": false,
     "input": [
      "[agent.wealth for agent in m.agents][2000:]"
     ],
     "language": "python",
     "metadata": {},
     "outputs": [
      {
       "metadata": {},
       "output_type": "pyout",
       "prompt_number": 18,
       "text": [
        "[0.0,\n",
        " 0.0,\n",
        " 0.0,\n",
        " 0.0,\n",
        " 0.0,\n",
        " 0.0,\n",
        " 0.0,\n",
        " 0.0,\n",
        " 0.0,\n",
        " 0.0,\n",
        " 0.0,\n",
        " 0.0,\n",
        " 0.0,\n",
        " 0.0,\n",
        " 0.0,\n",
        " 0.0,\n",
        " 0.0,\n",
        " 0.0,\n",
        " 0.0,\n",
        " 0.0,\n",
        " 0.0,\n",
        " 0.0,\n",
        " 0.0,\n",
        " 0.0,\n",
        " 0.0,\n",
        " 108.0,\n",
        " 0.0,\n",
        " 0.0,\n",
        " 0.0,\n",
        " 0.0,\n",
        " 0.0,\n",
        " 0.0,\n",
        " 0.0,\n",
        " 0.0,\n",
        " 0.0,\n",
        " 0.0,\n",
        " 0.0,\n",
        " 0.0,\n",
        " 0.0,\n",
        " 0.0,\n",
        " 0.0,\n",
        " 0.0,\n",
        " 0.0,\n",
        " 22.0,\n",
        " 0.0,\n",
        " 0.0,\n",
        " 0.0,\n",
        " 0.0,\n",
        " 0.0,\n",
        " 0.0,\n",
        " 0.0,\n",
        " 0.0,\n",
        " 0.0,\n",
        " 0.0,\n",
        " 0.0,\n",
        " 0.0,\n",
        " 0.0,\n",
        " 132.0,\n",
        " 0.0,\n",
        " 0.0,\n",
        " 0.0,\n",
        " 0.0,\n",
        " 0.0,\n",
        " 0.0,\n",
        " 0.0,\n",
        " 0.0,\n",
        " 0.0,\n",
        " 0.0,\n",
        " 0.0,\n",
        " 0.0,\n",
        " 0.0,\n",
        " 0.0,\n",
        " 0.0,\n",
        " 0.0,\n",
        " 0.0,\n",
        " 0.0,\n",
        " 0.0,\n",
        " 0.0,\n",
        " 0.0,\n",
        " 0.0,\n",
        " 0.0,\n",
        " 35.0,\n",
        " 0.0,\n",
        " 413.0,\n",
        " 0.0,\n",
        " 0.0,\n",
        " 168.0,\n",
        " 0.0,\n",
        " 0.0,\n",
        " 0.0,\n",
        " 0.0,\n",
        " 0.0,\n",
        " 0.0,\n",
        " 0.0,\n",
        " 0.0,\n",
        " 0.0,\n",
        " 0.0,\n",
        " 0.0,\n",
        " 0.0,\n",
        " 0.0,\n",
        " 0.0,\n",
        " 24.0,\n",
        " 0.0,\n",
        " 0.0,\n",
        " 0.0,\n",
        " 0.0,\n",
        " 0.0,\n",
        " 0.0,\n",
        " 0.0,\n",
        " 0.0,\n",
        " 0.0,\n",
        " 0.0,\n",
        " 0.0,\n",
        " 0.0,\n",
        " 0.0,\n",
        " 0.0,\n",
        " 0.0,\n",
        " 0.0,\n",
        " 0.0,\n",
        " 432.0,\n",
        " 0.0,\n",
        " 0.0,\n",
        " 1054.0,\n",
        " 0.0,\n",
        " 0.0,\n",
        " 0.0,\n",
        " 0.0,\n",
        " 71.0,\n",
        " 0.0,\n",
        " 0.0,\n",
        " 0.0,\n",
        " 800.0,\n",
        " 0.0,\n",
        " 100.0,\n",
        " 0.0,\n",
        " 54.0,\n",
        " 741.0,\n",
        " 0.0,\n",
        " 0.0,\n",
        " 0.0,\n",
        " 0.0,\n",
        " 1530.0,\n",
        " 0.0,\n",
        " 0.0,\n",
        " 0.0,\n",
        " 192.0,\n",
        " 0.0,\n",
        " 0.0,\n",
        " 0.0,\n",
        " 0.0,\n",
        " 0.0,\n",
        " 0.0,\n",
        " 0.0,\n",
        " 0.0,\n",
        " 0.0,\n",
        " 40.0,\n",
        " 600.0,\n",
        " 0.0,\n",
        " 0.0,\n",
        " 40.0,\n",
        " 0.0,\n",
        " 0.0,\n",
        " 0.0,\n",
        " 87.0,\n",
        " 0.0,\n",
        " 374.0,\n",
        " 0.0,\n",
        " 0.0,\n",
        " 264.0,\n",
        " 124.0,\n",
        " 0.0,\n",
        " 138.0,\n",
        " 720.7045283043174,\n",
        " 0.0,\n",
        " 120.0,\n",
        " 344.0,\n",
        " 0.0,\n",
        " 0.0,\n",
        " 244.0,\n",
        " 195.0,\n",
        " 0.0,\n",
        " 2.0,\n",
        " 0.0,\n",
        " 34.0,\n",
        " 1030.3958602374178,\n",
        " 180.0,\n",
        " 133.0,\n",
        " 990.5338978046997,\n",
        " 623.3045575522958,\n",
        " 138.0,\n",
        " 0.0,\n",
        " 422.5465641453391,\n",
        " 74.0,\n",
        " 126.00599600608982,\n",
        " 605.1312062995635,\n",
        " 667.7309862615873,\n",
        " 118.92913334607383,\n",
        " 581.4313185808053,\n",
        " 0.0,\n",
        " 310.5371815147483,\n",
        " 369.9912097383776]"
       ]
      }
     ],
     "prompt_number": 18
    },
    {
     "cell_type": "code",
     "collapsed": false,
     "input": [],
     "language": "python",
     "metadata": {},
     "outputs": []
    }
   ],
   "metadata": {}
  }
 ]
}