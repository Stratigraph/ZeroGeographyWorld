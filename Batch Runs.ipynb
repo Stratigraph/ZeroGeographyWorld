{
 "metadata": {
  "name": "",
  "signature": "sha256:206a0e7b1a324ec847467876495790d950f97e132450f7f29be864495a325b04"
 },
 "nbformat": 3,
 "nbformat_minor": 0,
 "worksheets": [
  {
   "cells": [
    {
     "cell_type": "code",
     "collapsed": false,
     "input": [
      "from BatchRunner import BatchRunner"
     ],
     "language": "python",
     "metadata": {},
     "outputs": [],
     "prompt_number": 1
    },
    {
     "cell_type": "markdown",
     "metadata": {},
     "source": [
      "## Experiments\n",
      "\n",
      "I experiment across two dimensions: the internal conflict resolution rule (internal vs external) and scale of model (100 interests vs 1,000 interests). For each, I run 100 model instances and store the results."
     ]
    },
    {
     "cell_type": "markdown",
     "metadata": {},
     "source": [
      "## Experiment 1: 100 Interests / Internal Resolution"
     ]
    },
    {
     "cell_type": "code",
     "collapsed": false,
     "input": [
      "experiment_1 = BatchRunner(\"base_model\", 100, 1000, internal_conflict_rule=\"external\")"
     ],
     "language": "python",
     "metadata": {},
     "outputs": [],
     "prompt_number": 2
    },
    {
     "cell_type": "code",
     "collapsed": false,
     "input": [
      "experiment_1.run_all(verbose=False)"
     ],
     "language": "python",
     "metadata": {},
     "outputs": [],
     "prompt_number": 3
    },
    {
     "cell_type": "code",
     "collapsed": false,
     "input": [
      "experiment_1.export_results(\"Outputs/Experiment1.out\")"
     ],
     "language": "python",
     "metadata": {},
     "outputs": [],
     "prompt_number": 4
    },
    {
     "cell_type": "markdown",
     "metadata": {},
     "source": [
      "## Experiment 2: 100 Interests / External Resolution"
     ]
    },
    {
     "cell_type": "code",
     "collapsed": false,
     "input": [
      "experiment_2 = BatchRunner(\"base_model\", 100, 1000, internal_conflict_rule=\"internal\")"
     ],
     "language": "python",
     "metadata": {},
     "outputs": [],
     "prompt_number": 5
    },
    {
     "cell_type": "code",
     "collapsed": false,
     "input": [
      "experiment_2.run_all(verbose=False)"
     ],
     "language": "python",
     "metadata": {},
     "outputs": [],
     "prompt_number": 6
    },
    {
     "cell_type": "code",
     "collapsed": false,
     "input": [
      "experiment_2.export_results(\"Outputs/Experiment2.out\")"
     ],
     "language": "python",
     "metadata": {},
     "outputs": [],
     "prompt_number": 7
    },
    {
     "cell_type": "markdown",
     "metadata": {},
     "source": [
      "## Experiment 3: 1,000 Interests, 100 agents / Internal Resolution / 10000 iterations"
     ]
    },
    {
     "cell_type": "code",
     "collapsed": false,
     "input": [
      "experiment_3 = BatchRunner(\"burnin_model\", 100, 10000, internal_conflict_rule=\"internal\",\n",
      "                           interest_count = 1000, num_agents=100)"
     ],
     "language": "python",
     "metadata": {},
     "outputs": [],
     "prompt_number": 9
    },
    {
     "cell_type": "code",
     "collapsed": false,
     "input": [
      "experiment_3.run_all(verbose=False)"
     ],
     "language": "python",
     "metadata": {},
     "outputs": [],
     "prompt_number": 10
    },
    {
     "cell_type": "code",
     "collapsed": false,
     "input": [
      "experiment_3.export_results(\"Outputs/Experiment3.out\")"
     ],
     "language": "python",
     "metadata": {},
     "outputs": [],
     "prompt_number": 11
    },
    {
     "cell_type": "markdown",
     "metadata": {},
     "source": [
      "## Experiment 4: 1,000 Interests, 100 agents / External Resolution / 10000 iterations\n",
      "\n",
      "This one seems to crash everything, so run it in 10 blocks."
     ]
    },
    {
     "cell_type": "code",
     "collapsed": false,
     "input": [
      "for i in range(10):\n",
      "    experiment_4 = BatchRunner(\"burnin_model\", 10, 10000, internal_conflict_rule=\"external\",\n",
      "                           interest_count = 1000, num_agents=100)\n",
      "    experiment_4.run_all(verbose=False)\n",
      "    filepath = \"Outputs/Experiment4_\" + str(i) + \".out\"\n",
      "    experiment_4.export_results(filepath)\n",
      "    print i\n",
      "    \n",
      "    "
     ],
     "language": "python",
     "metadata": {},
     "outputs": [
      {
       "output_type": "stream",
       "stream": "stdout",
       "text": [
        "0\n",
        "1"
       ]
      },
      {
       "output_type": "stream",
       "stream": "stdout",
       "text": [
        "\n",
        "2"
       ]
      },
      {
       "output_type": "stream",
       "stream": "stdout",
       "text": [
        "\n",
        "3"
       ]
      },
      {
       "output_type": "stream",
       "stream": "stdout",
       "text": [
        "\n",
        "4"
       ]
      },
      {
       "output_type": "stream",
       "stream": "stdout",
       "text": [
        "\n",
        "5"
       ]
      },
      {
       "output_type": "stream",
       "stream": "stdout",
       "text": [
        "\n",
        "6"
       ]
      },
      {
       "output_type": "stream",
       "stream": "stdout",
       "text": [
        "\n",
        "7"
       ]
      },
      {
       "output_type": "stream",
       "stream": "stdout",
       "text": [
        "\n",
        "8"
       ]
      },
      {
       "output_type": "stream",
       "stream": "stdout",
       "text": [
        "\n",
        "9"
       ]
      },
      {
       "output_type": "stream",
       "stream": "stdout",
       "text": [
        "\n"
       ]
      }
     ],
     "prompt_number": 2
    }
   ],
   "metadata": {}
  }
 ]
}