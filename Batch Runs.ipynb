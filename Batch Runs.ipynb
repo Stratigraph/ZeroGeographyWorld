{
 "metadata": {
  "name": "",
  "signature": "sha256:cebeb1b717792cbbae0264fdaae6b7ca43f437745ec0933d733eccfce3432cc9"
 },
 "nbformat": 3,
 "nbformat_minor": 0,
 "worksheets": [
  {
   "cells": [
    {
     "cell_type": "code",
     "collapsed": false,
     "input": [
      "from BatchRunner import BatchRunner"
     ],
     "language": "python",
     "metadata": {},
     "outputs": [],
     "prompt_number": 1
    },
    {
     "cell_type": "markdown",
     "metadata": {},
     "source": [
      "## Experiments\n",
      "\n",
      "I experiment across two dimensions: the internal conflict resolution rule (internal vs external) and scale of model (100 interests vs 1,000 interests). For each, I run 100 model instances and store the results."
     ]
    },
    {
     "cell_type": "markdown",
     "metadata": {},
     "source": [
      "## Experiment 1: 100 Interests / Internal Resolution"
     ]
    },
    {
     "cell_type": "code",
     "collapsed": false,
     "input": [
      "experiment_1 = BatchRunner(\"base_model\", 100, 1000, internal_conflict_rule=\"external\")"
     ],
     "language": "python",
     "metadata": {},
     "outputs": [],
     "prompt_number": 2
    },
    {
     "cell_type": "code",
     "collapsed": false,
     "input": [
      "experiment_1.run_all(verbose=False)"
     ],
     "language": "python",
     "metadata": {},
     "outputs": [],
     "prompt_number": 3
    },
    {
     "cell_type": "code",
     "collapsed": false,
     "input": [
      "experiment_1.export_results(\"Outputs/Experiment1.json\")"
     ],
     "language": "python",
     "metadata": {},
     "outputs": [],
     "prompt_number": 4
    },
    {
     "cell_type": "code",
     "collapsed": false,
     "input": [
      "import gzip"
     ],
     "language": "python",
     "metadata": {},
     "outputs": [],
     "prompt_number": 11
    },
    {
     "cell_type": "markdown",
     "metadata": {},
     "source": [
      "## Experiment 2: 100 Interests / External Resolution"
     ]
    },
    {
     "cell_type": "code",
     "collapsed": false,
     "input": [],
     "language": "python",
     "metadata": {},
     "outputs": []
    }
   ],
   "metadata": {}
  }
 ]
}