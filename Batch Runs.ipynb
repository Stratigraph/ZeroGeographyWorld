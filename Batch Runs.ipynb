{
 "metadata": {
  "name": "",
  "signature": "sha256:cf3617dc9639913092730eb90276ca96f5bc42cc9ece32cd2890c6a6b3b50549"
 },
 "nbformat": 3,
 "nbformat_minor": 0,
 "worksheets": [
  {
   "cells": [
    {
     "cell_type": "code",
     "collapsed": false,
     "input": [
      "from BatchRunner import BatchRunner"
     ],
     "language": "python",
     "metadata": {},
     "outputs": [],
     "prompt_number": 1
    },
    {
     "cell_type": "markdown",
     "metadata": {},
     "source": [
      "## Experiments\n",
      "\n",
      "I experiment across two dimensions: the internal conflict resolution rule (internal vs external) and scale of model (100 interests vs 1,000 interests). For each, I run 100 model instances and store the results."
     ]
    },
    {
     "cell_type": "markdown",
     "metadata": {},
     "source": [
      "## Experiment 1: 100 Interests / Internal Resolution"
     ]
    },
    {
     "cell_type": "code",
     "collapsed": false,
     "input": [
      "experiment_1 = BatchRunner(\"base_model\", 10, 1000, internal_conflict_rule=\"external\")"
     ],
     "language": "python",
     "metadata": {},
     "outputs": [],
     "prompt_number": 2
    },
    {
     "cell_type": "code",
     "collapsed": false,
     "input": [
      "experiment_1.run_all(verbose=False)"
     ],
     "language": "python",
     "metadata": {},
     "outputs": [],
     "prompt_number": 3
    },
    {
     "cell_type": "code",
     "collapsed": false,
     "input": [
      "experiment_1.export_results(\"Outputs/Experiment1.out\")"
     ],
     "language": "python",
     "metadata": {},
     "outputs": [],
     "prompt_number": 4
    }
   ],
   "metadata": {}
  }
 ]
}